{
 "cells": [
  {
   "cell_type": "markdown",
   "metadata": {},
   "source": [
    "Q1.What are the two values of the Boolean data type? How do you write them?\n",
    "\n",
    "Answer:\n",
    "        True and False are the two values of the boolean data type.\n",
    "        Example: a = True, b= False"
   ]
  },
  {
   "cell_type": "raw",
   "metadata": {},
   "source": [
    "Q2&3. What are the three different types of Boolean operators?\n",
    "\n",
    "Answer:\n",
    "        1. Not operator(not)\n",
    "           The only Boolean operator with one argument is not. It takes one argument and returns the opposite                result: False for True and True for False. Here it is in a truth table\n",
    "           \n",
    "           A         not A\n",
    "           True      False\n",
    "           False     True\n",
    "           \n",
    "         2. And Operator(and)\n",
    "            The and operator takes two arguments. It evaluates to False unless both inputs are True. You could                 define the behavior of and with the following truth table:\n",
    "            \n",
    "            \n",
    "            A\t     B\t   A and B\n",
    "            True\tTrue\tTrue\n",
    "            False\tTrue\tFalse\n",
    "            True\tFalse\tFalse\n",
    "            False\tFalse\tFalse\n",
    "            \n",
    "         3. Or Operator(or):\n",
    "            The value of the or operator is True unless both of its inputs are False. The or operator could also               be defined by the following truth table:\n",
    "            \n",
    "            \n",
    "            A\t      B\t   A or B\n",
    "            True\tTrue\tTrue\n",
    "            False\tTrue\tTrue\n",
    "            True\tFalse\tTrue\n",
    "            False\tFalse\tFalse"
   ]
  },
  {
   "cell_type": "raw",
   "metadata": {},
   "source": [
    "Q4. What are the values of the following expressions?\n",
    "(5 > 4) and (3 == 5)\n",
    "not (5 > 4)\n",
    "(5 > 4) or (3 == 5)\n",
    "not ((5 > 4) or (3 == 5))\n",
    "(True and True) and (True == False)\n",
    "(not False) or (not True)\n",
    "Answer: \n",
    "       (5 > 4) and (3 == 5)  False\n",
    "        not (5 > 4)          False\n",
    "       (5 > 4) or (3 == 5)   True\n",
    "       not ((5 > 4) or (3 == 5)) False\n",
    "       (True and True) and (True == False)  False\n",
    "       (not False) or (not True)   True\n",
    "       "
   ]
  },
  {
   "cell_type": "code",
   "execution_count": 1,
   "metadata": {},
   "outputs": [
    {
     "name": "stdout",
     "output_type": "stream",
     "text": [
      "False False True False False True\n"
     ]
    }
   ],
   "source": [
    "print((5 > 4) and (3 == 5),\n",
    "not (5 > 4),\n",
    "(5 > 4) or (3 == 5),\n",
    "not ((5 > 4) or (3 == 5)),\n",
    "(True and True) and (True == False),\n",
    "(not False) or (not True))"
   ]
  },
  {
   "cell_type": "raw",
   "metadata": {},
   "source": [
    "Q5. What are the six comparison operators?\n",
    "\n",
    "Answer:\n",
    "        Operator\tName\t                Example\t     Output\n",
    "            ==\t   Equal\t                 1 == 2       False\n",
    "            !=\t  Not equal\t                 1 != 2\t      True\n",
    "            >\t  Greater than\t             1 > 2        False\n",
    "            <\t  Less than\t                 1 < 2        True\n",
    "            >=\t  Greater than or equal to\t 1 >= 2       False\n",
    "            <=\t  Less than or equal to\t     1 <= 2       True"
   ]
  },
  {
   "cell_type": "raw",
   "metadata": {},
   "source": [
    "6. How do you tell the difference between the equal to and assignment operators?Describe a condition and when you would use one.\n",
    "\n",
    "Answer:\n",
    "        The = is a simple assignment operator. It assigns values from right side operands to the left side                 operand.\n",
    "        While on the other hand == checks if the values of two operands are equal or not. If yes, the condition           becomes true and it returns a non zero value.\n",
    "        \n",
    "        Example:\n",
    "               a=10 #The value 10 will be stored in the integer variable a.\n",
    "\n",
    "               if(a==10): #This will check if the value stored in variable a is equal to 10. If yes it will return                a non zero value."
   ]
  },
  {
   "cell_type": "code",
   "execution_count": 4,
   "metadata": {},
   "outputs": [
    {
     "name": "stdout",
     "output_type": "stream",
     "text": [
      "True\n"
     ]
    }
   ],
   "source": [
    "a = 10 #The value 10 vill be stored in the vairable 'a' assignment operator(=) is used\n",
    "\n",
    "print(a == 10)"
   ]
  },
  {
   "cell_type": "raw",
   "metadata": {},
   "source": [
    "7. Identify the three blocks in this code:\n",
    "spam = 0\n",
    "if spam == 10:\n",
    "    print('eggs')\n",
    "    \n",
    "if spam > 5:\n",
    "    print('bacon')\n",
    "else:\n",
    "    print('ham')\n",
    "    print('spam')\n",
    "    print('spam')\n",
    "\n",
    "Answer:\n",
    "        if spam == 10 is first block\n",
    "        if spam > 5 is second block\n",
    "        else is a third block"
   ]
  },
  {
   "cell_type": "raw",
   "metadata": {},
   "source": [
    "Q8. Write code that prints Hello if 1 is stored in spam, prints Howdy if 2 is stored in spam, and prints Greetings! if anything else is stored in spam.\n",
    "\n",
    "Please refere below cell for answer"
   ]
  },
  {
   "cell_type": "code",
   "execution_count": 7,
   "metadata": {},
   "outputs": [
    {
     "name": "stdout",
     "output_type": "stream",
     "text": [
      "Greetings!\n"
     ]
    }
   ],
   "source": [
    "spam = 'test'\n",
    "\n",
    "print(\"Hello\" if spam == 1 else \"Howday\" if spam == 2 else \"Greetings!\")"
   ]
  },
  {
   "cell_type": "raw",
   "metadata": {},
   "source": [
    "Q9.If your programme is stuck in an endless loop, what keys you’ll press?\n",
    "Answer:\n",
    "        An infinite loop occurs when a program keeps executing within one loop, never leaving it. \n",
    "        To exit out of infinite loops on the command line, press CTRL + C"
   ]
  },
  {
   "cell_type": "code",
   "execution_count": null,
   "metadata": {},
   "outputs": [],
   "source": [
    "try:\n",
    "    while True:\n",
    "        print('infinite loop')\n",
    "except KeyboardInterrupt:\n",
    "    print(\"Press Ctrl-C to terminate while statement\")\n",
    "    pass"
   ]
  },
  {
   "cell_type": "raw",
   "metadata": {},
   "source": [
    "Q10. How can you tell the difference between break and continue?\n",
    "\n",
    "Answer:\n",
    "        break and continue statements can alter the flow of a normal loop.\n",
    "        Loops iterate over a block of code until the test expression is false, but sometimes we wish to terminate         the current iteration or even the whole loop without checking test expression.\n",
    "        \n",
    "        1.Break Statement: The break statement terminates the loop containing it. Control of the program flows to                            the statement immediately after the body of the loop.\n",
    "                           If the break statement is inside a nested loop (loop inside another loop), the break                              statement will terminate the innermost loop.\n",
    "        2.Continue Statement: The continue statement is used to skip the rest of the code inside a loop for the                                 current iteration only. Loop does not terminate but continues on with the next                                     iteration.\n",
    "\n"
   ]
  },
  {
   "cell_type": "code",
   "execution_count": null,
   "metadata": {},
   "outputs": [],
   "source": [
    "# Use of break statement inside the loop\n",
    "for val in \"string\":\n",
    "    if val == \"i\":\n",
    "        break\n",
    "    print(val)\n",
    "\n",
    "print(\"The end\")\n",
    "\n",
    "# Program to show the use of continue statement inside loops\n",
    "for val in \"string\":\n",
    "    if val == \"i\":\n",
    "        continue\n",
    "    print(val)\n",
    "\n",
    "print(\"The end\")"
   ]
  },
  {
   "cell_type": "raw",
   "metadata": {},
   "source": [
    "Q11. In a for loop, what is the difference between range(10), range(0, 10), and range(0, 10, 1)?\n",
    "\n",
    "Answer: \n",
    "        all are same giving same output. Please check below cell"
   ]
  },
  {
   "cell_type": "code",
   "execution_count": 2,
   "metadata": {},
   "outputs": [
    {
     "name": "stdout",
     "output_type": "stream",
     "text": [
      "0 1 2 3 4 5 6 7 8 9 \n",
      "0 1 2 3 4 5 6 7 8 9 \n",
      "0 1 2 3 4 5 6 7 8 9 "
     ]
    }
   ],
   "source": [
    "for i in range(10):\n",
    "    print(i,end=\" \")\n",
    "print()\n",
    "\n",
    "for i in range(0,10):\n",
    "    print(i,end=\" \")\n",
    "print()\n",
    "\n",
    "for i in range(0,10,1):\n",
    "    print(i,end=\" \")"
   ]
  },
  {
   "cell_type": "raw",
   "metadata": {},
   "source": [
    "Q12. Write a short program that prints the numbers 1 to 10 using a for loop. Then write an equivalent\n",
    "program that prints the numbers 1 to 10 using a while loop."
   ]
  },
  {
   "cell_type": "code",
   "execution_count": 3,
   "metadata": {},
   "outputs": [
    {
     "name": "stdout",
     "output_type": "stream",
     "text": [
      "1 2 3 4 5 6 7 8 9 10 \n",
      "1 2 3 4 5 6 7 8 9 10 "
     ]
    }
   ],
   "source": [
    "#using for loop\n",
    "\n",
    "for i in range(1,11):\n",
    "    print(i,end=\" \")\n",
    "print()\n",
    "\n",
    "#using while loop\n",
    "i = 1;\n",
    "while i < 11:\n",
    "    print(i,end=\" \")\n",
    "    i +=1\n"
   ]
  },
  {
   "cell_type": "raw",
   "metadata": {},
   "source": [
    "Q13. If you had a function named bacon() inside a module named spam, how would you call it after importing spam?\n",
    "\n",
    "Answer:\n",
    "       spam.bacon() "
   ]
  },
  {
   "cell_type": "code",
   "execution_count": null,
   "metadata": {},
   "outputs": [],
   "source": []
  }
 ],
 "metadata": {
  "kernelspec": {
   "display_name": "Python 3",
   "language": "python",
   "name": "python3"
  },
  "language_info": {
   "codemirror_mode": {
    "name": "ipython",
    "version": 3
   },
   "file_extension": ".py",
   "mimetype": "text/x-python",
   "name": "python",
   "nbconvert_exporter": "python",
   "pygments_lexer": "ipython3",
   "version": "3.8.5"
  }
 },
 "nbformat": 4,
 "nbformat_minor": 4
}
