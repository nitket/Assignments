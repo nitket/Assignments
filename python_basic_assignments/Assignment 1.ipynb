{
 "cells": [
  {
   "cell_type": "raw",
   "metadata": {},
   "source": [
    "Q1. What are the differences between operators and values in the following?\n",
    "    *\n",
    "    'hello'\n",
    "    -87.8\n",
    "    -\n",
    "    /\n",
    "    +\n",
    "    6\n",
    "    \n",
    "Answer:\n",
    "        Operators: *, -,/,+\n",
    "        Values: 'hello, -87.8,6"
   ]
  },
  {
   "cell_type": "raw",
   "metadata": {},
   "source": [
    "Q2. What is the difference between string and variable?\n",
    "Answer:\n",
    "Variable is used to store information.Variable name alwayst start with letter or underscore(_). equal = is used to set value to the variable.\n",
    "String is a type of information you would store in variable. A string is usually words enclose with \"\" or ''.    "
   ]
  },
  {
   "cell_type": "raw",
   "metadata": {},
   "source": [
    "Q3. Describe three different data types.\n",
    "Answer:\n",
    "    1. String:String is sequence of Unicode characters. We can use single quotes or double quotes to represent            strings. Multi-line strings can be denoted using triple quotes, ''' or \"\"\".\n",
    "       str() function is used to convert value to string;\n",
    "      \n",
    "    2. List:List is an ordered sequence of items. It is one of the most used datatype in Python and is very              flexible. All the items in a list do not need to be of the same type.\n",
    "\n",
    "       Declaring a list is pretty straight forward. Items separated by commas are enclosed within brackets [ ].\n",
    "       \n",
    "    3. Tuple: Tuple is an ordered sequence of items same as a list. The only difference is that tuples are                immutable. Tuples once created cannot be modified.\n",
    "\n",
    "       Tuples are used to write-protect data and are usually faster than lists as they cannot change dynamically.\n",
    "\n",
    "       It is defined within parentheses () where items are separated by commas."
   ]
  },
  {
   "cell_type": "code",
   "execution_count": 14,
   "metadata": {},
   "outputs": [
    {
     "name": "stdout",
     "output_type": "stream",
     "text": [
      "This is a string\n",
      "A multiline\n",
      "string\n",
      "\n",
      "[1, 2.2, 'python']\n",
      "\n",
      "(5, 'program', (1+3j))\n"
     ]
    }
   ],
   "source": [
    "#strint\n",
    "s = \"This is a string \"\n",
    "print(s)\n",
    "s = '''A multiline\n",
    "string'''\n",
    "print(s)\n",
    "\n",
    "#list\n",
    "print()\n",
    "l = [1, 2.2, 'python']\n",
    "print(l)\n",
    "\n",
    "#tuples\n",
    "print();\n",
    "t = (5,'program', 1+3j)\n",
    "print(t)\n"
   ]
  },
  {
   "cell_type": "raw",
   "metadata": {},
   "source": [
    "Q4. What is an expression made up of? What do all expressions do?\n",
    "\n",
    "Answer:\n",
    "    Expressions are representations of value.\n",
    "    Python expressions only contain identifiers, literals, and operators.\n",
    "    \n",
    "    Identifiers: Any name that is used to define a class, function, variable module, or object is an identifier. \n",
    "    Literals: These are language-independent terms in Python and should exist independently in any programming         language. In Python, there are the string literals, byte literals, integer literals, floating point literals,     and imaginary literals. \n",
    "    Operators: In Python you can implement the following operations using the corresponding tokens.\n",
    "\n",
    "    add\t+\n",
    "    subtract\t-\n",
    "    multiply\t*\n",
    "    power\t**\n",
    "    Integer Division\t/\n",
    "    remainder\t%\n",
    "    decorator\t@\n",
    "    Binary left shift\t<<\n",
    "    Binary right shift\t>>\n",
    "    and\t&\n",
    "    or\t\\\n",
    "    Binary Xor\t^\n",
    "    Binary ones complement\t~\n",
    "    Less than\t<\n",
    "    Greater than\t>\n",
    "    Less than or equal to\t<=\n",
    "    Greater than or equal to\t>=\n",
    "    Check equality\t==\n",
    "    Check not equal\t!=\n",
    "    "
   ]
  },
  {
   "cell_type": "raw",
   "metadata": {},
   "source": [
    "Q5. In this chapter, assignment statements such as spam = 10 were added. What's the difference between a declaration and an expression?\n",
    "\n",
    "Answer:\n",
    "    Statement:A statement is an instruction that the Python interpreter can execute.\n",
    "    When you type a statement on the command line, Python executes it and displays the result, \n",
    "    if there is one. \n",
    "    example:The result of a print statement is a value. Assignment statements don’t produce a result.\n",
    "    \n",
    "    Expression:An expression is a combination of values, variables, and operators. \n",
    "    If you type an expression on the command line, the interpreter evaluates it and displays the result"
   ]
  },
  {
   "cell_type": "raw",
   "metadata": {},
   "source": [
    "Q6. After running the following code, what does the variable bacon contain?\n",
    "bacon = 22\n",
    "bacon + 1\n",
    "\n",
    "Answer: variable bacon contain 22 check below cell for practical implementation."
   ]
  },
  {
   "cell_type": "code",
   "execution_count": 1,
   "metadata": {},
   "outputs": [
    {
     "name": "stdout",
     "output_type": "stream",
     "text": [
      "22\n"
     ]
    }
   ],
   "source": [
    "bacon = 22\n",
    "bacon+1\n",
    "print(bacon)"
   ]
  },
  {
   "cell_type": "raw",
   "metadata": {},
   "source": [
    "Q7. What should the values of the following two terms be?\n",
    "\n",
    "'spam' + 'spamspam'\n",
    "'spam' * 3\n",
    "\n",
    "Answer: both the temrs having same value 'spamspamspam' check below cell for practical implementation.\n"
   ]
  },
  {
   "cell_type": "code",
   "execution_count": 3,
   "metadata": {},
   "outputs": [
    {
     "name": "stdout",
     "output_type": "stream",
     "text": [
      "spamspamspam spamspamspam\n"
     ]
    }
   ],
   "source": [
    "a = 'spam' + 'spamspam'\n",
    "b = 'spam' * 3\n",
    "print(a,b)"
   ]
  },
  {
   "cell_type": "raw",
   "metadata": {},
   "source": [
    "Q8. Why is it that eggs is a true variable name but 100 is not?\n",
    "\n",
    "Answer: \n",
    "Python variable define rule - A variable name cannot start with a number. A variable name can only contain alpha-numeric characters and underscores (A-z, 0-9, and _ ) variable names are case-sensitive\n",
    "Explination: '100' start with number and not valid python variable because variable name start with alphabet or underscore.\n"
   ]
  },
  {
   "cell_type": "raw",
   "metadata": {},
   "source": [
    "Q9. Which of the following three functions may be used to convert a value to an integer, a floating-point number, or a string?\n",
    "\n",
    "Answer:\n",
    "1. str() function is used to convert variable into string.\n",
    "2. int() function is used to convert variable into integer. \n",
    "3. float() function is used to convert variable into floating point number.\n"
   ]
  },
  {
   "cell_type": "raw",
   "metadata": {},
   "source": [
    "Q10. What is the error caused by this expression? What would you do about it?\n",
    "\n",
    "'I have eaten ' + 99 + ' burritos.'\n",
    "\n",
    "Answer:\n",
    "    error: TypeError: can only concatenate str (not \"int\") to str\n",
    "    solution: use str() function to convert 99 to string or enclose 99 in quotes."
   ]
  }
 ],
 "metadata": {
  "kernelspec": {
   "display_name": "Python 3",
   "language": "python",
   "name": "python3"
  },
  "language_info": {
   "codemirror_mode": {
    "name": "ipython",
    "version": 3
   },
   "file_extension": ".py",
   "mimetype": "text/x-python",
   "name": "python",
   "nbconvert_exporter": "python",
   "pygments_lexer": "ipython3",
   "version": "3.8.5"
  }
 },
 "nbformat": 4,
 "nbformat_minor": 4
}
