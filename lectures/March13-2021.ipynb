{
 "cells": [
  {
   "cell_type": "code",
   "execution_count": 7,
   "metadata": {},
   "outputs": [
    {
     "name": "stdout",
     "output_type": "stream",
     "text": [
      "string in lowercase we are all part of full stack\n",
      "occurance of a = 4\n",
      "[3, 7, 12, 26]\n",
      "we iNeuronre iNeuronll piNeuronrt of Full StiNeuronck\n",
      "['we', 'are', 'all', 'part', 'of', 'Full', 'Stack']\n"
     ]
    }
   ],
   "source": [
    "a = \"we are all part of Full Stack\"\n",
    "\n",
    "print(f'string in lowercase {a.lower()}')\n",
    "print(f'occurance of a = {a.count(\"a\")}')\n",
    "print([i for i, char in enumerate(a) if char == 'a'])\n",
    "print(a.replace('a','iNeuron'))\n",
    "print(a.split(' '))"
   ]
  },
  {
   "cell_type": "code",
   "execution_count": 12,
   "metadata": {},
   "outputs": [
    {
     "name": "stdout",
     "output_type": "stream",
     "text": [
      "* \n",
      "** \n",
      "*** \n",
      "**** \n",
      "***** \n"
     ]
    }
   ],
   "source": [
    "for i in range(5):\n",
    "    print('*'*(i+1),end=\" \")\n",
    "    print();"
   ]
  },
  {
   "cell_type": "code",
   "execution_count": 17,
   "metadata": {},
   "outputs": [
    {
     "name": "stdout",
     "output_type": "stream",
     "text": [
      "***** \n",
      "**** \n",
      "*** \n",
      "** \n",
      "* \n"
     ]
    }
   ],
   "source": [
    "n= 5;\n",
    "for i in range(n):\n",
    "    print('*'*n,end=\" \")\n",
    "    print()\n",
    "    n = n-1"
   ]
  },
  {
   "cell_type": "code",
   "execution_count": 19,
   "metadata": {},
   "outputs": [
    {
     "name": "stdout",
     "output_type": "stream",
     "text": [
      "    *\n",
      "   **\n",
      "  ***\n",
      " ****\n",
      "*****\n"
     ]
    }
   ],
   "source": [
    "n= 5;\n",
    "for i in range(n):\n",
    "    print(' '*(n-1), end='*'*(i+1))\n",
    "    print()\n",
    "    n = n-1\n"
   ]
  },
  {
   "cell_type": "code",
   "execution_count": 21,
   "metadata": {},
   "outputs": [
    {
     "name": "stdout",
     "output_type": "stream",
     "text": [
      "*****\n",
      " ****\n",
      "  ***\n",
      "   **\n",
      "    *\n"
     ]
    }
   ],
   "source": [
    "n= 5;\n",
    "for i in range(n):\n",
    "    print(' '*i,end=\"*\"*n)\n",
    "    print()\n",
    "    n = n-1"
   ]
  },
  {
   "cell_type": "code",
   "execution_count": 24,
   "metadata": {},
   "outputs": [
    {
     "name": "stdout",
     "output_type": "stream",
     "text": [
      "Enter a string to check if its pallindrom or not:121\n",
      "121 is pallindrome\n"
     ]
    }
   ],
   "source": [
    "a = input('Enter a string to check if its pallindrom or not:')\n",
    "\n",
    "print(f'{a} is pallindrome' if a == a[::-1] else f'{a} is not pallindrom')"
   ]
  },
  {
   "cell_type": "code",
   "execution_count": 28,
   "metadata": {},
   "outputs": [
    {
     "name": "stdout",
     "output_type": "stream",
     "text": [
      "      * \n",
      "     * * \n",
      "    * * * \n",
      "   * * * * \n",
      "  * * * * * \n",
      " * * * * * * \n"
     ]
    }
   ],
   "source": [
    "n= 6\n",
    "for i in range(n):\n",
    "    print(' '*(n),end=\"* \"*(i+1))\n",
    "    print()\n",
    "    n = n-1"
   ]
  },
  {
   "cell_type": "code",
   "execution_count": 32,
   "metadata": {},
   "outputs": [
    {
     "name": "stdout",
     "output_type": "stream",
     "text": [
      "* * * * * * \n",
      " * * * * * \n",
      "  * * * * \n",
      "   * * * \n",
      "    * * \n",
      "     * \n"
     ]
    }
   ],
   "source": [
    "n=6;\n",
    "for i in range(n):\n",
    "    print(' '*(i),end=\"* \"*n)\n",
    "    print()\n",
    "    n = n-1"
   ]
  }
 ],
 "metadata": {
  "kernelspec": {
   "display_name": "Python 3",
   "language": "python",
   "name": "python3"
  },
  "language_info": {
   "codemirror_mode": {
    "name": "ipython",
    "version": 3
   },
   "file_extension": ".py",
   "mimetype": "text/x-python",
   "name": "python",
   "nbconvert_exporter": "python",
   "pygments_lexer": "ipython3",
   "version": "3.8.5"
  }
 },
 "nbformat": 4,
 "nbformat_minor": 4
}
